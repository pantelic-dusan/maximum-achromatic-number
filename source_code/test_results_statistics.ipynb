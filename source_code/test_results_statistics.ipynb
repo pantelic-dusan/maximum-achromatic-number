{
 "cells": [
  {
   "cell_type": "code",
   "execution_count": 42,
   "metadata": {},
   "outputs": [],
   "source": [
    "import matplotlib.pyplot as plt\n",
    "import json\n",
    "import numpy as np\n",
    "import pandas as pd"
   ]
  },
  {
   "cell_type": "code",
   "execution_count": 43,
   "metadata": {},
   "outputs": [],
   "source": [
    "with open('test_results/achromatic_brute_force.json', 'r') as fp:\n",
    "    bf_test_results = json.load(fp)\n",
    "\n",
    "with open('test_results/achromatic_genetic_without_annealing.json', 'r') as fp:\n",
    "    ga_without_ann_test_results = json.load(fp)\n",
    "    \n",
    "with open('test_results/achromatic_genetic_with_annealing.json', 'r') as fp:\n",
    "    ga_with_ann_test_results = json.load(fp)"
   ]
  },
  {
   "cell_type": "code",
   "execution_count": 57,
   "metadata": {},
   "outputs": [
    {
     "name": "stdout",
     "output_type": "stream",
     "text": [
      "NODES  EDGES  BF_OUT   BF_TIME  GA_OUT  GA_TIME  GAA_OUT  GAA_TIME\n",
      "  7.0    0.0     1.0     0.043     1.0    0.022      1.0     0.023\n",
      " 10.0   29.0     6.0     0.616     6.0    0.275      6.0     0.255\n",
      "  4.0    0.0     1.0     0.001     1.0    0.015      1.0     0.026\n",
      "  2.0    1.0     2.0     0.000     2.0    0.017      2.0     0.021\n",
      "  8.0    6.0     4.0     0.054     4.0    0.078      3.0    79.071\n",
      " 10.0   34.0     7.0     0.742     6.0   99.525      7.0     0.470\n",
      " 13.0   55.0     9.0    88.663     9.0   12.028      8.0   164.089\n",
      " 12.0    4.0     3.0   229.384     3.0    0.038      3.0     0.038\n",
      "  2.0    0.0     1.0     0.000     1.0    0.020      1.0     0.023\n",
      "  7.0    6.0     4.0     0.010     4.0    0.020      4.0     0.107\n",
      "  9.0    4.0     3.0     0.602     3.0    0.027      3.0     0.027\n",
      "  6.0   14.0     5.0     0.003     5.0    0.017      5.0     0.017\n",
      "  8.0   12.0     5.0     0.027     5.0    0.110      5.0     0.022\n",
      " 14.0   52.0     8.0   249.689     7.0  171.753      7.0   169.527\n",
      "  9.0   27.0     7.0     0.111     6.0   88.201      7.0     0.486\n",
      "  4.0    0.0     1.0     0.001     1.0    0.015      1.0     0.020\n",
      "  2.0    1.0     2.0     0.000     2.0    0.016      2.0     0.019\n",
      " 14.0   12.0     5.0  4973.395     5.0    0.442      5.0     0.044\n",
      "  4.0    5.0     3.0     0.000     3.0    0.014      3.0     0.018\n",
      "  3.0    2.0     2.0     0.000     2.0    0.016      2.0     0.018\n"
     ]
    }
   ],
   "source": [
    "data = []\n",
    "for key in bf_test_results.keys():\n",
    "    data.append([bf_test_results[key][\"nodes_num\"],\n",
    "                 bf_test_results[key][\"edges_num\"],\n",
    "                 bf_test_results[key][\"achromatic_number\"],\n",
    "                 round(bf_test_results[key][\"execution_duration\"],3),\n",
    "                 ga_without_ann_test_results[key][\"result\"],\n",
    "                 round(ga_without_ann_test_results[key][\"execution_duration\"], 3),\n",
    "                 ga_with_ann_test_results[key][\"result\"],\n",
    "                 round(ga_with_ann_test_results[key][\"execution_duration\"], 3)])\n",
    "columns = [\"NODES\", \"EDGES\",\"BF_OUT\", \"BF_TIME\", \"GA_OUT\", \"GA_TIME\", \"GAA_OUT\", \"GAA_TIME\"]\n",
    "rows = list(bf_test_results.keys())\n",
    "df = pd.DataFrame(np.array(data),columns=columns).sample(20)\n",
    "print(df.to_string(index=False))"
   ]
  },
  {
   "cell_type": "code",
   "execution_count": 77,
   "metadata": {},
   "outputs": [
    {
     "data": {
      "image/png": "[encoded data removed]",
      "text/plain": [
       "<matplotlib.figure.Figure at 0x7ff2e18e1d30>"
      ]
     },
     "metadata": {},
     "output_type": "display_data"
    }
   ],
   "source": [
    "bf_data = list(map(lambda x:int(x[\"execution_duration\"]), list(bf_test_results.values())))\n",
    "bf_time_data = [0, 0]\n",
    "for i in range(0, len(bf_data), 5):\n",
    "    bf_time_data.append((bf_data[i]+bf_data[i+1]+bf_data[i+2]+bf_data[i+3]+bf_data[i+4])/5.0)\n",
    "plt.plot(bf_time_data, color=\"red\")\n",
    "plt.rcParams[\"figure.figsize\"] = (10,4)\n",
    "plt.show()"
   ]
  },
  {
   "cell_type": "code",
   "execution_count": 101,
   "metadata": {},
   "outputs": [
    {
     "data": {
      "image/png": "[encoded data removed]",
      "text/plain": [
       "<matplotlib.figure.Figure at 0x7ff2e27a3668>"
      ]
     },
     "metadata": {},
     "output_type": "display_data"
    }
   ],
   "source": [
    "bf_data = list(map(lambda x:int(x[\"execution_duration\"]), list(ga_without_ann_test_results.values())))\n",
    "bf_time_data = [0, 0]\n",
    "for i in range(0, len(bf_data), 5):\n",
    "    bf_time_data.append((bf_data[i]+bf_data[i+1]+bf_data[i+2]+bf_data[i+3]+bf_data[i+4])/5.0)\n",
    "plt.plot(bf_time_data, color=\"blue\")\n",
    "plt.rcParams[\"figure.figsize\"] = (4,4)\n",
    "plt.show()"
   ]
  },
  {
   "cell_type": "code",
   "execution_count": 115,
   "metadata": {},
   "outputs": [
    {
     "data": {
      "image/png": "[encoded data removed]",
      "text/plain": [
       "<matplotlib.figure.Figure at 0x7ff2e2204320>"
      ]
     },
     "metadata": {},
     "output_type": "display_data"
    }
   ],
   "source": [
    "bf_data = list(map(lambda x:int(x[\"execution_duration\"]), list(ga_with_ann_test_results.values())))\n",
    "bf_time_data = [0, 0]\n",
    "for i in range(0, len(bf_data), 5):\n",
    "    bf_time_data.append((bf_data[i]+bf_data[i+1]+bf_data[i+2]+bf_data[i+3]+bf_data[i+4])/5.0)\n",
    "plt.plot(bf_time_data, color=\"green\")\n",
    "plt.rcParams[\"figure.figsize\"] = (4,4)\n",
    "plt.show()"
   ]
  },
  {
   "cell_type": "code",
   "execution_count": 136,
   "metadata": {},
   "outputs": [
    {
     "data": {
      "image/png": "[encoded data removed]",
      "text/plain": [
       "<matplotlib.figure.Figure at 0x7ff2e2ae29e8>"
      ]
     },
     "metadata": {},
     "output_type": "display_data"
    }
   ],
   "source": [
    "ga_time = list(map(lambda x:int(x[\"execution_duration\"]), list(ga_without_ann_test_results.values())))                                                                                              \n",
    "ga_time_avg = sum(ga_time) / len(list(ga_without_ann_test_results.values()))\n",
    "\n",
    "gaa_time = list(map(lambda x:int(x[\"execution_duration\"]), list(ga_with_ann_test_results.values())))                                                                                              \n",
    "gaa_time_avg = sum(gaa_time) / len(list(ga_with_ann_test_results.values()))\n",
    "\n",
    "height = [ga_time_avg, gaa_time_avg]\n",
    "bars = ('Bez kaljenja', 'Sa kaljenjem')\n",
    "y_pos = np.arange(len(bars))\n",
    " \n",
    "plt.bar(y_pos, height)\n",
    " \n",
    "plt.xticks(y_pos, bars)\n",
    " \n",
    "plt.show()"
   ]
  },
  {
   "cell_type": "code",
   "execution_count": 137,
   "metadata": {},
   "outputs": [
    {
     "data": {
      "image/png": "[encoded data removed]",
      "text/plain": [
       "<matplotlib.figure.Figure at 0x7ff2e1ad67f0>"
      ]
     },
     "metadata": {},
     "output_type": "display_data"
    }
   ],
   "source": [
    "ga = list(map(lambda x:int(x[\"iterations_num\"]), list(ga_without_ann_test_results.values())))                                                                                              \n",
    "ga_avg = sum(ga) / len(list(ga_without_ann_test_results.values()))\n",
    "\n",
    "gaa = list(map(lambda x:int(x[\"iterations_num\"]), list(ga_with_ann_test_results.values())))                                                                                              \n",
    "gaa_avg = sum(gaa) / len(list(ga_with_ann_test_results.values()))\n",
    "\n",
    "height = [ga_avg, gaa_avg]\n",
    "bars = ('Bez kaljenja', 'Sa kaljenjem')\n",
    "y_pos = np.arange(len(bars))\n",
    " \n",
    "plt.bar(y_pos, height)\n",
    " \n",
    "plt.xticks(y_pos, bars)\n",
    " \n",
    "plt.show()"
   ]
  },
  {
   "cell_type": "code",
   "execution_count": 142,
   "metadata": {},
   "outputs": [
    {
     "data": {
      "image/png": "[encoded data removed]",
      "text/plain": [
       "<matplotlib.figure.Figure at 0x7ff2e2260710>"
      ]
     },
     "metadata": {},
     "output_type": "display_data"
    }
   ],
   "source": [
    "ga = list(map(lambda x:int(x[\"is_valid\"]), list(ga_without_ann_test_results.values())))                                                                                              \n",
    "ga_avg = len(list(filter(lambda x: x == True, ga))) / len(list(ga_without_ann_test_results.values()))\n",
    "\n",
    "gaa = list(map(lambda x:int(x[\"is_valid\"]), list(ga_with_ann_test_results.values())))                                                                                              \n",
    "gaa_avg = len(list(filter(lambda x: x == True, gaa))) / len(list(ga_with_ann_test_results.values()))\n",
    "\n",
    "height = [ga_avg*100, gaa_avg*100]\n",
    "bars = ('Bez kaljenja', 'Sa kaljenjem')\n",
    "y_pos = np.arange(len(bars))\n",
    " \n",
    "plt.bar(y_pos, height)\n",
    " \n",
    "plt.xticks(y_pos, bars)\n",
    " \n",
    "plt.show()"
   ]
  },
  {
   "cell_type": "code",
   "execution_count": 143,
   "metadata": {},
   "outputs": [
    {
     "data": {
      "image/png": "[encoded data removed]",
      "text/plain": [
       "<matplotlib.figure.Figure at 0x7ff2e22516a0>"
      ]
     },
     "metadata": {},
     "output_type": "display_data"
    }
   ],
   "source": [
    "ga = list(map(lambda x:int(x[\"is_optimal\"]), list(ga_without_ann_test_results.values())))                                                                                              \n",
    "ga_avg = len(list(filter(lambda x: x == True, ga))) / len(list(ga_without_ann_test_results.values()))\n",
    "\n",
    "gaa = list(map(lambda x:int(x[\"is_optimal\"]), list(ga_with_ann_test_results.values())))                                                                                              \n",
    "gaa_avg = len(list(filter(lambda x: x == True, gaa))) / len(list(ga_with_ann_test_results.values()))\n",
    "\n",
    "height = [ga_avg*100, gaa_avg*100]\n",
    "bars = ('Bez kaljenja', 'Sa kaljenjem')\n",
    "y_pos = np.arange(len(bars))\n",
    " \n",
    "plt.bar(y_pos, height)\n",
    " \n",
    "plt.xticks(y_pos, bars)\n",
    " \n",
    "plt.show()"
   ]
  },
  {
   "cell_type": "code",
   "execution_count": null,
   "metadata": {},
   "outputs": [],
   "source": []
  }
 ],
 "metadata": {
  "kernelspec": {
   "display_name": "Python 3",
   "language": "python",
   "name": "python3"
  },
  "language_info": {
   "codemirror_mode": {
    "name": "ipython",
    "version": 3
   },
   "file_extension": ".py",
   "mimetype": "text/x-python",
   "name": "python",
   "nbconvert_exporter": "python",
   "pygments_lexer": "ipython3",
   "version": "3.6.3"
  }
 },
 "nbformat": 4,
 "nbformat_minor": 2
}
